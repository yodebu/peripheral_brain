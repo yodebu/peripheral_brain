{
 "cells": [
  {
   "cell_type": "code",
   "execution_count": 1,
   "metadata": {
    "collapsed": false
   },
   "outputs": [],
   "source": [
    "# Import required modules\n",
    "import requests\n",
    "from bs4 import BeautifulSoup\n",
    "import pandas as pd\n",
    "from time import gmtime, strftime"
   ]
  },
  {
   "cell_type": "code",
   "execution_count": 2,
   "metadata": {
    "collapsed": true
   },
   "outputs": [],
   "source": [
    "yesterday_df = pd.read_csv('yesterday.csv')"
   ]
  },
  {
   "cell_type": "code",
   "execution_count": 3,
   "metadata": {
    "collapsed": true
   },
   "outputs": [],
   "source": [
    "# Create a variable with the url\n",
    "url = 'http://chrisralbon.com'\n",
    "\n",
    "# Use requests to get the contents\n",
    "r = requests.get(url)\n",
    "\n",
    "# Get the text of the contents\n",
    "html_content = r.text\n",
    "\n",
    "# Convert the html content into a beautiful soup object\n",
    "soup = BeautifulSoup(html_content)"
   ]
  },
  {
   "cell_type": "code",
   "execution_count": 4,
   "metadata": {
    "collapsed": false,
    "scrolled": true
   },
   "outputs": [],
   "source": [
    "header = soup.title.string\n",
    "title = header.split(' - ')[0]\n",
    "description = header.split(' - ')[1]\n",
    "todays_date = strftime(\"%a, %d %b %Y %H:%M:%S +0000\", gmtime())"
   ]
  },
  {
   "cell_type": "code",
   "execution_count": 5,
   "metadata": {
    "collapsed": false
   },
   "outputs": [],
   "source": [
    "link = []\n",
    "title = []\n",
    "\n",
    "for i in soup.find_all('li'):\n",
    "    i = i.a\n",
    "    try: \n",
    "        relative_url = i.get('href')\n",
    "        base_url = url+'/'\n",
    "        link_url = str(base_url)+str(relative_url)\n",
    "        link.append(link_url)\n",
    "        \n",
    "        title.append(i.string)\n",
    "    except:\n",
    "        continue"
   ]
  },
  {
   "cell_type": "code",
   "execution_count": 6,
   "metadata": {
    "collapsed": false
   },
   "outputs": [],
   "source": [
    "title = pd.Series(title, name='title')\n",
    "link = pd.Series(link, name='link')\n",
    "\n",
    "today_df = pd.concat([title, link], axis=1)"
   ]
  },
  {
   "cell_type": "code",
   "execution_count": 7,
   "metadata": {
    "collapsed": true
   },
   "outputs": [],
   "source": [
    "today_df.to_csv('yesterday.csv', index=False)"
   ]
  },
  {
   "cell_type": "code",
   "execution_count": 8,
   "metadata": {
    "collapsed": false
   },
   "outputs": [],
   "source": [
    "today_df['new'] = (today_df['title'] != yesterday_df['title'])"
   ]
  },
  {
   "cell_type": "code",
   "execution_count": 9,
   "metadata": {
    "collapsed": false
   },
   "outputs": [],
   "source": [
    "diff = today_df[today_df['new'] == True]"
   ]
  },
  {
   "cell_type": "code",
   "execution_count": 10,
   "metadata": {
    "collapsed": false,
    "scrolled": true
   },
   "outputs": [],
   "source": [
    "post_items = []\n",
    "\n",
    "for index, row in diff.iterrows():\n",
    "    post_title = row[0]\n",
    "    post_url = row[1]\n",
    "    post_items.append('<item><title>'+post_title+'</title><link>'+post_url+'</link><pubDate>'+todays_date+'</pubDate><description></description> </item>')"
   ]
  },
  {
   "cell_type": "code",
   "execution_count": 11,
   "metadata": {
    "collapsed": false
   },
   "outputs": [
    {
     "data": {
      "text/plain": [
       "''"
      ]
     },
     "execution_count": 11,
     "metadata": {},
     "output_type": "execute_result"
    }
   ],
   "source": [
    "rss_items = str(post_items)\n",
    "\n",
    "rss_items = rss_items.strip(\"['\")\n",
    "rss_items = rss_items.replace(\"', '\", \" \")\n",
    "rss_items = rss_items.strip(\"']\")"
   ]
  },
  {
   "cell_type": "code",
   "execution_count": 12,
   "metadata": {
    "collapsed": false,
    "scrolled": true
   },
   "outputs": [],
   "source": [
    "rss_header = '<?xml version=\"1.0\" encoding=\"UTF-8\"?> <rss version=\"2.0\" xmlns:content=\"http://purl.org/rss/1.0/modules/content/\" xmlns:wfw=\"http://wellformedweb.org/CommentAPI/\" xmlns:dc=\"http://purl.org/dc/elements/1.1/\" xmlns:atom=\"http://www.w3.org/2005/Atom\"><channel><title>Chris Albon</title><link>http://chrisalbon.com/</link><atom:link href=\"http://www.mydomain.com/rss/rss2.xml\" rel=\"self\" type=\"application/rss+xml\" /><description>Political Science And Data Science</description><language>en</language>' "
   ]
  },
  {
   "cell_type": "code",
   "execution_count": 13,
   "metadata": {
    "collapsed": false
   },
   "outputs": [],
   "source": [
    "rss_footer = '</channel></rss>'"
   ]
  },
  {
   "cell_type": "code",
   "execution_count": 14,
   "metadata": {
    "collapsed": true
   },
   "outputs": [],
   "source": [
    "if len(rss_items) > 1:\n",
    "    rss_full = rss_header + rss_items + rss_footer\n",
    "    text_file = open(\"feed.xml\", \"w\")\n",
    "    text_file.write(rss_full)\n",
    "    text_file.close()"
   ]
  }
 ],
 "metadata": {
  "kernelspec": {
   "display_name": "Python 3",
   "language": "python",
   "name": "python3"
  },
  "language_info": {
   "codemirror_mode": {
    "name": "ipython",
    "version": 3
   },
   "file_extension": ".py",
   "mimetype": "text/x-python",
   "name": "python",
   "nbconvert_exporter": "python",
   "pygments_lexer": "ipython3",
   "version": "3.4.3"
  }
 },
 "nbformat": 4,
 "nbformat_minor": 0
}
